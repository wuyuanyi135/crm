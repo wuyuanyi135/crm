{
 "cells": [
  {
   "cell_type": "code",
   "execution_count": 10,
   "metadata": {},
   "outputs": [],
   "source": [
    "import numpy as np\n",
    "import pandas as pd\n",
    "import itertools"
   ]
  },
  {
   "cell_type": "code",
   "execution_count": 5,
   "metadata": {},
   "outputs": [],
   "source": [
    "form_names = [\"alpha\", \"beta\"]\n",
    "dimensions = [range(x) for x in [1,2]]\n",
    "quantiles = [\"D10\", \"D50\", \"D90\"]"
   ]
  },
  {
   "cell_type": "markdown",
   "metadata": {},
   "source": [
    "expected output:\n",
    "```\n",
    "[\"alpha\", 0, \"D10\"]\n",
    "[\"alpha\", 0, \"D50\"]\n",
    "[\"alpha\", 0, \"D90\"]\n",
    "[\"beta\", 0, \"D10\"]\n",
    "[\"beta\", 0, \"D50\"]\n",
    "[\"beta\", 0, \"D90\"]\n",
    "[\"beta\", 1, \"D10\"]\n",
    "[\"beta\", 1, \"D50\"]\n",
    "[\"beta\", 1, \"D90\"]\n",
    "```\n"
   ]
  },
  {
   "cell_type": "code",
   "execution_count": 24,
   "metadata": {},
   "outputs": [],
   "source": [
    "li = []\n",
    "for fn, dim in zip(form_names, dimensions):\n",
    "    for d in dim:\n",
    "        li.append((fn, d))\n",
    "prod = itertools.product(li, quantiles)\n",
    "prod = list(prod)"
   ]
  },
  {
   "cell_type": "code",
   "execution_count": 29,
   "metadata": {},
   "outputs": [
    {
     "data": {
      "text/plain": [
       "MultiIndex([('alpha', 0, 'D10'),\n",
       "            ('alpha', 0, 'D50'),\n",
       "            ('alpha', 0, 'D90'),\n",
       "            ( 'beta', 0, 'D10'),\n",
       "            ( 'beta', 0, 'D50'),\n",
       "            ( 'beta', 0, 'D90'),\n",
       "            ( 'beta', 1, 'D10'),\n",
       "            ( 'beta', 1, 'D50'),\n",
       "            ( 'beta', 1, 'D90')],\n",
       "           )"
      ]
     },
     "execution_count": 29,
     "metadata": {},
     "output_type": "execute_result"
    }
   ],
   "source": [
    "index = pd.MultiIndex.from_tuples([(a, b, c) for (a, b), c in prod])\n",
    "index"
   ]
  },
  {
   "cell_type": "code",
   "execution_count": 30,
   "metadata": {},
   "outputs": [
    {
     "data": {
      "text/plain": [
       "('alpha', 0, 'D10')"
      ]
     },
     "execution_count": 30,
     "metadata": {},
     "output_type": "execute_result"
    }
   ],
   "source": [
    "index[0]"
   ]
  },
  {
   "cell_type": "code",
   "execution_count": null,
   "metadata": {},
   "outputs": [],
   "source": []
  }
 ],
 "metadata": {
  "kernelspec": {
   "display_name": "Python 3",
   "language": "python",
   "name": "python3"
  },
  "language_info": {
   "codemirror_mode": {
    "name": "ipython",
    "version": 3
   },
   "file_extension": ".py",
   "mimetype": "text/x-python",
   "name": "python",
   "nbconvert_exporter": "python",
   "pygments_lexer": "ipython3",
   "version": "3.8.6"
  }
 },
 "nbformat": 4,
 "nbformat_minor": 1
}
